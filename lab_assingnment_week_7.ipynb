{
  "nbformat": 4,
  "nbformat_minor": 0,
  "metadata": {
    "colab": {
      "provenance": [],
      "authorship_tag": "ABX9TyPzMo3n6m94hQfRbmD663c0",
      "include_colab_link": true
    },
    "kernelspec": {
      "name": "python3",
      "display_name": "Python 3"
    },
    "language_info": {
      "name": "python"
    }
  },
  "cells": [
    {
      "cell_type": "markdown",
      "metadata": {
        "id": "view-in-github",
        "colab_type": "text"
      },
      "source": [
        "<a href=\"https://colab.research.google.com/github/surajsolti/hwLabassignment/blob/main/lab_assingnment_week_7.ipynb\" target=\"_parent\"><img src=\"https://colab.research.google.com/assets/colab-badge.svg\" alt=\"Open In Colab\"/></a>"
      ]
    },
    {
      "cell_type": "code",
      "execution_count": 4,
      "metadata": {
        "colab": {
          "base_uri": "https://localhost:8080/"
        },
        "id": "73OLZWs1kIz5",
        "outputId": "81a8e644-3204-481d-ca42-35c6422cad17"
      },
      "outputs": [
        {
          "output_type": "stream",
          "name": "stdout",
          "text": [
            "num of darts 45\n",
            "0.05368606291303989\n"
          ]
        }
      ],
      "source": [
        "#answer of no.1 \n",
        "import random\n",
        "def calc():\n",
        " num=eval(input(\"num of darts \"))\n",
        " x=1                             \n",
        " for i in range(num):            \n",
        "   x=2*random.random()-1         \n",
        "   y=2*random.random()-1         \n",
        "   if((x**2)+(y**2))<1:          \n",
        "     x=x+1                      \n",
        "   else:\n",
        "     pass\n",
        " pi=4*(x/num)                      \n",
        " print(pi)                       \n",
        "calc() "
      ]
    },
    {
      "cell_type": "code",
      "source": [
        "#Answer of no. 2\n",
        "import random\n",
        "n=eval(input('Enter steps '))  \n",
        "point=1 \n",
        "coinlst=[\"head\",\"tail\"]   \n",
        "for i in range(n):   \n",
        "   if random.choice(coinlst)==\"head\":  \n",
        "    point+=1\n",
        "   elif random.choice(coinlst)==\"tail\":\n",
        "    point-=1 \n",
        "\n",
        "if point<0:\n",
        "  print(\"behind\",point)\n",
        "\n",
        "if point>0:\n",
        "  print(\"forward\",point)\n",
        "\n",
        "if point==0:\n",
        "  print(\"You didn't move\")"
      ],
      "metadata": {
        "colab": {
          "base_uri": "https://localhost:8080/"
        },
        "id": "IA-NpOs9lmJf",
        "outputId": "8dece03f-6ee9-4872-c56f-867a8727b97f"
      },
      "execution_count": 6,
      "outputs": [
        {
          "output_type": "stream",
          "name": "stdout",
          "text": [
            "Enter steps 45\n",
            "forward 16\n"
          ]
        }
      ]
    }
  ]
}