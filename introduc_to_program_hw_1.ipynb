{
  "nbformat": 4,
  "nbformat_minor": 0,
  "metadata": {
    "colab": {
      "provenance": [],
      "authorship_tag": "ABX9TyOWEMOw0X7DH0szcaDCGtye",
      "include_colab_link": true
    },
    "kernelspec": {
      "name": "python3",
      "display_name": "Python 3"
    },
    "language_info": {
      "name": "python"
    }
  },
  "cells": [
    {
      "cell_type": "markdown",
      "metadata": {
        "id": "view-in-github",
        "colab_type": "text"
      },
      "source": [
        "<a href=\"https://colab.research.google.com/github/surajsolti/hwLabassignment/blob/main/introduc_to_program_hw_1.ipynb\" target=\"_parent\"><img src=\"https://colab.research.google.com/assets/colab-badge.svg\" alt=\"Open In Colab\"/></a>"
      ]
    },
    {
      "cell_type": "code",
      "execution_count": 22,
      "metadata": {
        "colab": {
          "base_uri": "https://localhost:8080/"
        },
        "id": "SfrtH9XbVqhq",
        "outputId": "06f0de6d-8de8-4271-9659-138e3e4ef14e"
      },
      "outputs": [
        {
          "output_type": "stream",
          "name": "stdout",
          "text": [
            "give:123\n",
            "3 2 1 "
          ]
        }
      ],
      "source": [
        "#Answer of 1\n",
        "n= input(\"give:\") \n",
        "def reverse(n):\n",
        " result= n.split(\" \")\n",
        " for char in result:\n",
        "  char=char[::-1]\n",
        "  result=\" \".join(char)\n",
        "  print(result, end=\" \")\n",
        "reverse(n)"
      ]
    },
    {
      "cell_type": "code",
      "source": [
        "#answer no.2\n",
        "class answer(object):\n",
        " def add(self, num, target):\n",
        "  ans = []\n",
        "  for x in range(len(num) - 1):\n",
        "   for y in range(x + 1, len(num)):\n",
        "    k = num[x] + num[y]\n",
        "    if k == target:\n",
        "      ans.append((x, y))\n",
        "      return ans\n",
        "print(answer().add([1,2,3,4], 7))\n"
      ],
      "metadata": {
        "colab": {
          "base_uri": "https://localhost:8080/"
        },
        "id": "_JnjA7OvW5pw",
        "outputId": "f4e26968-9fc8-4914-f0e1-11a8bc80c239"
      },
      "execution_count": 11,
      "outputs": [
        {
          "output_type": "stream",
          "name": "stdout",
          "text": [
            "[(2, 3)]\n"
          ]
        }
      ]
    },
    {
      "cell_type": "code",
      "source": [
        "#answer of 3\n",
        "num=input(\"Give input:\")\n",
        "def palindrome(num):\n",
        " if (num==num[::-1]):\n",
        "  return True\n",
        " else:\n",
        "  return False\n",
        "palindrome(num)"
      ],
      "metadata": {
        "colab": {
          "base_uri": "https://localhost:8080/"
        },
        "id": "de9_H1y1Xc0t",
        "outputId": "bafa9fc5-6dcd-485e-9780-a982990fb325"
      },
      "execution_count": 13,
      "outputs": [
        {
          "name": "stdout",
          "output_type": "stream",
          "text": [
            "Give input:567\n"
          ]
        },
        {
          "output_type": "execute_result",
          "data": {
            "text/plain": [
              "False"
            ]
          },
          "metadata": {},
          "execution_count": 13
        }
      ]
    },
    {
      "cell_type": "code",
      "source": [
        "#answer of 4\n",
        "def commonprefix():\n",
        " str = [\"michael\",\"michelle\",\"mitch\"]\n",
        " str = sorted(str)\n",
        " c=str[0]\n",
        " pref=\" \"\n",
        " for i in range(len(c)):\n",
        "  if str[len(str)-1][i] == c[i]:\n",
        "   pref = pref + str[len(str)-1][i]\n",
        "  else:\n",
        "   break\n",
        " print(pref)\n",
        "commonprefix()"
      ],
      "metadata": {
        "colab": {
          "base_uri": "https://localhost:8080/"
        },
        "id": "KUXtL4NcX02t",
        "outputId": "251323c2-5783-43ac-a7b5-75f8f1ce286b"
      },
      "execution_count": 15,
      "outputs": [
        {
          "output_type": "stream",
          "name": "stdout",
          "text": [
            " mi\n"
          ]
        }
      ]
    },
    {
      "cell_type": "code",
      "source": [
        "#answer of 5\n",
        "import math\n",
        "num= int(input(\"Enter the number of terms: \"))\n",
        "pi = 0\n",
        "for r in range(num):\n",
        " terms = ((-1) ** r) * (4 / (2 * r + 1))\n",
        " pi += terms\n",
        "print(\"The calculated value of pi =\", pi)\n",
        "print(\"Actual pi value =\", math.pi)\n",
        "print(\"Difference =\", math.pi - pi)\n"
      ],
      "metadata": {
        "id": "HzZVvHTvaNVh"
      },
      "execution_count": null,
      "outputs": []
    },
    {
      "cell_type": "code",
      "source": [
        "#answer of 6\n",
        "import math\n",
        "def newtonmethod(x,step):\n",
        " p=1\n",
        " guess = x/2\n",
        " while p <= step:\n",
        "  guess = (guess + (x/guess)) / 2\n",
        "  p+=1\n",
        " return guess\n",
        "answer = newtonmethod(25, 5)\n",
        "print (answer,\"\\nDifference with square root of x:\", answer - (math.sqrt(25)))"
      ],
      "metadata": {
        "colab": {
          "base_uri": "https://localhost:8080/"
        },
        "id": "nRbhgz1ba-5G",
        "outputId": "5a68e253-afec-43a2-cb6a-bd5ba9aa6785"
      },
      "execution_count": 20,
      "outputs": [
        {
          "output_type": "stream",
          "name": "stdout",
          "text": [
            "5.000000000016778 \n",
            "Difference with square root of x: 1.6777690348135366e-11\n"
          ]
        }
      ]
    }
  ]
}