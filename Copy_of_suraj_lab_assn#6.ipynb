{
  "nbformat": 4,
  "nbformat_minor": 0,
  "metadata": {
    "colab": {
      "provenance": [],
      "authorship_tag": "ABX9TyPQwTc0+RfpORMHSv1J8A78",
      "include_colab_link": true
    },
    "kernelspec": {
      "name": "python3",
      "display_name": "Python 3"
    },
    "language_info": {
      "name": "python"
    }
  },
  "cells": [
    {
      "cell_type": "markdown",
      "metadata": {
        "id": "view-in-github",
        "colab_type": "text"
      },
      "source": [
        "<a href=\"https://colab.research.google.com/github/surajsolti/hwLabassignment/blob/main/Copy_of_suraj_lab_assn%236.ipynb\" target=\"_parent\"><img src=\"https://colab.research.google.com/assets/colab-badge.svg\" alt=\"Open In Colab\"/></a>"
      ]
    },
    {
      "cell_type": "code",
      "execution_count": null,
      "metadata": {
        "colab": {
          "base_uri": "https://localhost:8080/"
        },
        "id": "UHXfE9JgTJrQ",
        "outputId": "fd3eee47-aed5-4e9a-d90a-5f9d32ab1e7d"
      },
      "outputs": [
        {
          "output_type": "stream",
          "name": "stdout",
          "text": [
            "Enter number:2\n",
            "Enter number:4\n",
            "2 + 2 = 4\n"
          ]
        }
      ],
      "source": [
        "#answer of number 1\n",
        "import math              #lab 6 \n",
        "MAX = 10000;\n",
        " \n",
        "primes = [];\n",
        " \n",
        "def foo():\n",
        "\n",
        "    fun = [False] * (int(MAX / 2) + 100);\n",
        "    for i in range(1, int((math.sqrt(MAX) - 1) / 2) + 1):\n",
        "        for j in range((i * (i + 1)) << 1,\n",
        "                        int(MAX / 2) + 1, 2 * i + 1):\n",
        "            fun[j] = True\n",
        " \n",
        "    primes.append(2);\n",
        "    for i in range(1, int(MAX / 2) + 1):\n",
        "        if (fun[i] == False):\n",
        "            primes.append(2 * i + 1)\n",
        "def findPrimes():\n",
        "    n = eval(input('Enter number:'))\n",
        "    if (n < 2 or n % 2 != 0):\n",
        "        print(\"Invalid Input\")\n",
        "        return\n",
        "    i = 0\n",
        "    while (primes[i] <= n // 2):\n",
        "        diff = n - primes[i];\n",
        "        if diff in primes:\n",
        "            print(primes[i], \"+\", diff, \"=\", n)\n",
        "            return;\n",
        "        i += 1\n",
        "foo();\n",
        "findPrimes();\n",
        "findPrimes();"
      ]
    },
    {
      "cell_type": "code",
      "source": [
        "#answer of number 2\n",
        "def main():\n",
        " nums = [1, 0, 3, 0, 5, 0, 4]\n",
        " new_list = [n for n in nums if n != 0] + [n for n in nums if n == 0]\n",
        " print(new_list)\n",
        "main()"
      ],
      "metadata": {
        "colab": {
          "base_uri": "https://localhost:8080/"
        },
        "id": "XcABvrezTZHq",
        "outputId": "ff5fa2d8-63e7-47c2-9de8-3b0cfc9b6134"
      },
      "execution_count": null,
      "outputs": [
        {
          "output_type": "stream",
          "name": "stdout",
          "text": [
            "[1, 3, 5, 4, 0, 0, 0]\n"
          ]
        }
      ]
    },
    {
      "cell_type": "code",
      "source": [
        "#answer of no. 3\n",
        "def patmatch(str,pattern,str_len,pat_len):\n",
        "    if(str_len<pat_len):\n",
        "        return False\n",
        "    if(str_len==0 and pat_len==0):      \n",
        "        return True\n",
        "    if (str_len == 0 or pat_len == 0):  \n",
        "        return False\n",
        "    if(str.find(' ')!=-1):\n",
        "        stringlst=str.split()        \n",
        "    else:\n",
        "        words = [[str[0]]]\n",
        "        for i in str[1:]:\n",
        "            if i.isupper() and words[-1][-1].islower():\n",
        "                words.append(list(i))\n",
        "            else:\n",
        "                words[-1].append(i)\n",
        "        stringlst=[''.join(word) for word in words]\n",
        "    patlist = []\n",
        "    for i in pattern:\n",
        "            if(i not in patlist):\n",
        "                patlist.append(i)\n",
        "    j=0\n",
        "    dict = {}\n",
        "    for i in patlist:\n",
        "        while(j<str_len):\n",
        "            dict[i]=stringlst[j]\n",
        "            j+=1\n",
        "            break\n",
        "    result=[]\n",
        "    for i in pattern:\n",
        "        if(i in dict.keys()):\n",
        "            result.append(dict[i])\n",
        "    if(result==stringlst):\n",
        "        return True\n",
        "    else:\n",
        "        return False\n",
        "def main():\n",
        " str=\"python code python code\"\n",
        " print(str)\n",
        " pat=input(\"pattern \")\n",
        " if(patmatch(str,pat,len(str),len(pat))):\n",
        "    return True\n",
        " else:\n",
        "    return False\n",
        "main()"
      ],
      "metadata": {
        "colab": {
          "base_uri": "https://localhost:8080/"
        },
        "id": "Qn9TNqQJhWgc",
        "outputId": "ec0b548a-1f05-4b4f-dee4-5b96e0e947e9"
      },
      "execution_count": null,
      "outputs": [
        {
          "name": "stdout",
          "output_type": "stream",
          "text": [
            "python code python code\n",
            "pattern abab\n"
          ]
        },
        {
          "output_type": "execute_result",
          "data": {
            "text/plain": [
              "True"
            ]
          },
          "metadata": {},
          "execution_count": 7
        }
      ]
    }
  ]
}