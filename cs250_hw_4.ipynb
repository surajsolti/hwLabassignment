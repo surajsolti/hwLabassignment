{
  "nbformat": 4,
  "nbformat_minor": 0,
  "metadata": {
    "colab": {
      "provenance": [],
      "authorship_tag": "ABX9TyOY5nnIt5eH4pZ0qEq0Rk+j",
      "include_colab_link": true
    },
    "kernelspec": {
      "name": "python3",
      "display_name": "Python 3"
    },
    "language_info": {
      "name": "python"
    }
  },
  "cells": [
    {
      "cell_type": "markdown",
      "metadata": {
        "id": "view-in-github",
        "colab_type": "text"
      },
      "source": [
        "<a href=\"https://colab.research.google.com/github/surajsolti/hwLabassignment/blob/main/cs250_hw_4.ipynb\" target=\"_parent\"><img src=\"https://colab.research.google.com/assets/colab-badge.svg\" alt=\"Open In Colab\"/></a>"
      ]
    },
    {
      "cell_type": "code",
      "execution_count": 3,
      "metadata": {
        "colab": {
          "base_uri": "https://localhost:8080/"
        },
        "id": "jzt2HsQWmOxz",
        "outputId": "e54064e7-dd1b-454f-c1c8-179278cd8e23"
      },
      "outputs": [
        {
          "output_type": "execute_result",
          "data": {
            "text/plain": [
              "80"
            ]
          },
          "metadata": {},
          "execution_count": 3
        }
      ],
      "source": [
        "def max_product():\n",
        "  lst=[10,5,3,2,8,7]\n",
        "  lst.sort()            \n",
        "  result=lst[len(lst)-1]*lst[len(lst)-2] \n",
        "  return result\n",
        "max_product()"
      ]
    },
    {
      "cell_type": "code",
      "source": [
        "#Answer of no:2\n",
        "def coord(fn, seq, lower, upper):\n",
        " return [[x, fn(x)] for x in seq if lower <= fn(x) <= upper]\n",
        "print(coord(lambda x: x**2,[-4, -2, 0, 1, 3],1,9))\n"
      ],
      "metadata": {
        "colab": {
          "base_uri": "https://localhost:8080/"
        },
        "id": "VCvEL2l3moWD",
        "outputId": "9d742625-329c-4570-b396-b49a256fa65a"
      },
      "execution_count": 5,
      "outputs": [
        {
          "output_type": "stream",
          "name": "stdout",
          "text": [
            "[[-2, 4], [1, 1], [3, 9]]\n"
          ]
        }
      ]
    },
    {
      "cell_type": "code",
      "source": [
        "#Answer of no:3\n",
        "def sort():\n",
        "  lst=[-4, 1, -2, 0, 3]\n",
        "  mylst=[]\n",
        "  while lst:   \n",
        "    v=lst[0]  \n",
        "    for item in lst: \n",
        "      if item <= v:  \n",
        "        v=item  \n",
        "    mylst.append(v) \n",
        "    lst.remove(v)  \n",
        "  return mylst\n",
        "sort()"
      ],
      "metadata": {
        "colab": {
          "base_uri": "https://localhost:8080/"
        },
        "id": "0uRTEbCGm4Ae",
        "outputId": "5a6c1051-774e-4f7b-cb08-4ffd0707b447"
      },
      "execution_count": 15,
      "outputs": [
        {
          "output_type": "execute_result",
          "data": {
            "text/plain": [
              "[-4, -2, 0, 1, 3]"
            ]
          },
          "metadata": {},
          "execution_count": 15
        }
      ]
    }
  ]
}